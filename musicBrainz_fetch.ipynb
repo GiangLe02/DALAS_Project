{
 "cells": [
  {
   "cell_type": "code",
   "execution_count": 65,
   "id": "67085e28-4135-4b73-8c35-8e5d8327fcf4",
   "metadata": {},
   "outputs": [],
   "source": [
    "import musicbrainzngs\n",
    "import pandas as pd\n",
    "import time\n",
    "musicbrainzngs.set_useragent(\"MyMusicApp\", \"0.1\", \"myemail@example.com\")\n"
   ]
  },
  {
   "cell_type": "code",
   "execution_count": 72,
   "id": "38ad01c6-d348-4a85-a1c9-1e7f9acffe64",
   "metadata": {},
   "outputs": [
    {
     "data": {
      "text/html": [
       "<pre style=\"white-space:pre;overflow-x:auto;line-height:normal;font-family:Menlo,'DejaVu Sans Mono',consolas,'Courier New',monospace\">Fetching songs for year <span style=\"color: #008080; text-decoration-color: #008080; font-weight: bold\">2010</span><span style=\"color: #808000; text-decoration-color: #808000\">...</span>\n",
       "</pre>\n"
      ],
      "text/plain": [
       "Fetching songs for year \u001b[1;36m2010\u001b[0m\u001b[33m...\u001b[0m\n"
      ]
     },
     "metadata": {},
     "output_type": "display_data"
    },
    {
     "data": {
      "text/html": [
       "<pre style=\"white-space:pre;overflow-x:auto;line-height:normal;font-family:Menlo,'DejaVu Sans Mono',consolas,'Courier New',monospace\">Fetching songs <span style=\"color: #008080; text-decoration-color: #008080; font-weight: bold\">1</span> to <span style=\"color: #008080; text-decoration-color: #008080; font-weight: bold\">100</span> for year <span style=\"color: #008080; text-decoration-color: #008080; font-weight: bold\">2010</span><span style=\"color: #808000; text-decoration-color: #808000\">...</span>\n",
       "</pre>\n"
      ],
      "text/plain": [
       "Fetching songs \u001b[1;36m1\u001b[0m to \u001b[1;36m100\u001b[0m for year \u001b[1;36m2010\u001b[0m\u001b[33m...\u001b[0m\n"
      ]
     },
     "metadata": {},
     "output_type": "display_data"
    },
    {
     "data": {
      "text/html": [
       "<pre style=\"white-space:pre;overflow-x:auto;line-height:normal;font-family:Menlo,'DejaVu Sans Mono',consolas,'Courier New',monospace\">Fetching songs <span style=\"color: #008080; text-decoration-color: #008080; font-weight: bold\">101</span> to <span style=\"color: #008080; text-decoration-color: #008080; font-weight: bold\">200</span> for year <span style=\"color: #008080; text-decoration-color: #008080; font-weight: bold\">2010</span><span style=\"color: #808000; text-decoration-color: #808000\">...</span>\n",
       "</pre>\n"
      ],
      "text/plain": [
       "Fetching songs \u001b[1;36m101\u001b[0m to \u001b[1;36m200\u001b[0m for year \u001b[1;36m2010\u001b[0m\u001b[33m...\u001b[0m\n"
      ]
     },
     "metadata": {},
     "output_type": "display_data"
    },
    {
     "data": {
      "text/html": [
       "<pre style=\"white-space:pre;overflow-x:auto;line-height:normal;font-family:Menlo,'DejaVu Sans Mono',consolas,'Courier New',monospace\">Fetching songs <span style=\"color: #008080; text-decoration-color: #008080; font-weight: bold\">201</span> to <span style=\"color: #008080; text-decoration-color: #008080; font-weight: bold\">300</span> for year <span style=\"color: #008080; text-decoration-color: #008080; font-weight: bold\">2010</span><span style=\"color: #808000; text-decoration-color: #808000\">...</span>\n",
       "</pre>\n"
      ],
      "text/plain": [
       "Fetching songs \u001b[1;36m201\u001b[0m to \u001b[1;36m300\u001b[0m for year \u001b[1;36m2010\u001b[0m\u001b[33m...\u001b[0m\n"
      ]
     },
     "metadata": {},
     "output_type": "display_data"
    },
    {
     "data": {
      "text/html": [
       "<pre style=\"white-space:pre;overflow-x:auto;line-height:normal;font-family:Menlo,'DejaVu Sans Mono',consolas,'Courier New',monospace\">Fetching songs <span style=\"color: #008080; text-decoration-color: #008080; font-weight: bold\">301</span> to <span style=\"color: #008080; text-decoration-color: #008080; font-weight: bold\">400</span> for year <span style=\"color: #008080; text-decoration-color: #008080; font-weight: bold\">2010</span><span style=\"color: #808000; text-decoration-color: #808000\">...</span>\n",
       "</pre>\n"
      ],
      "text/plain": [
       "Fetching songs \u001b[1;36m301\u001b[0m to \u001b[1;36m400\u001b[0m for year \u001b[1;36m2010\u001b[0m\u001b[33m...\u001b[0m\n"
      ]
     },
     "metadata": {},
     "output_type": "display_data"
    },
    {
     "data": {
      "text/html": [
       "<pre style=\"white-space:pre;overflow-x:auto;line-height:normal;font-family:Menlo,'DejaVu Sans Mono',consolas,'Courier New',monospace\">Fetching songs <span style=\"color: #008080; text-decoration-color: #008080; font-weight: bold\">401</span> to <span style=\"color: #008080; text-decoration-color: #008080; font-weight: bold\">500</span> for year <span style=\"color: #008080; text-decoration-color: #008080; font-weight: bold\">2010</span><span style=\"color: #808000; text-decoration-color: #808000\">...</span>\n",
       "</pre>\n"
      ],
      "text/plain": [
       "Fetching songs \u001b[1;36m401\u001b[0m to \u001b[1;36m500\u001b[0m for year \u001b[1;36m2010\u001b[0m\u001b[33m...\u001b[0m\n"
      ]
     },
     "metadata": {},
     "output_type": "display_data"
    },
    {
     "data": {
      "text/html": [
       "<pre style=\"white-space:pre;overflow-x:auto;line-height:normal;font-family:Menlo,'DejaVu Sans Mono',consolas,'Courier New',monospace\">Fetching songs <span style=\"color: #008080; text-decoration-color: #008080; font-weight: bold\">501</span> to <span style=\"color: #008080; text-decoration-color: #008080; font-weight: bold\">600</span> for year <span style=\"color: #008080; text-decoration-color: #008080; font-weight: bold\">2010</span><span style=\"color: #808000; text-decoration-color: #808000\">...</span>\n",
       "</pre>\n"
      ],
      "text/plain": [
       "Fetching songs \u001b[1;36m501\u001b[0m to \u001b[1;36m600\u001b[0m for year \u001b[1;36m2010\u001b[0m\u001b[33m...\u001b[0m\n"
      ]
     },
     "metadata": {},
     "output_type": "display_data"
    },
    {
     "data": {
      "text/html": [
       "<pre style=\"white-space:pre;overflow-x:auto;line-height:normal;font-family:Menlo,'DejaVu Sans Mono',consolas,'Courier New',monospace\">Fetching songs <span style=\"color: #008080; text-decoration-color: #008080; font-weight: bold\">601</span> to <span style=\"color: #008080; text-decoration-color: #008080; font-weight: bold\">700</span> for year <span style=\"color: #008080; text-decoration-color: #008080; font-weight: bold\">2010</span><span style=\"color: #808000; text-decoration-color: #808000\">...</span>\n",
       "</pre>\n"
      ],
      "text/plain": [
       "Fetching songs \u001b[1;36m601\u001b[0m to \u001b[1;36m700\u001b[0m for year \u001b[1;36m2010\u001b[0m\u001b[33m...\u001b[0m\n"
      ]
     },
     "metadata": {},
     "output_type": "display_data"
    },
    {
     "data": {
      "text/html": [
       "<pre style=\"white-space:pre;overflow-x:auto;line-height:normal;font-family:Menlo,'DejaVu Sans Mono',consolas,'Courier New',monospace\">Fetching songs for year <span style=\"color: #008080; text-decoration-color: #008080; font-weight: bold\">2011</span><span style=\"color: #808000; text-decoration-color: #808000\">...</span>\n",
       "</pre>\n"
      ],
      "text/plain": [
       "Fetching songs for year \u001b[1;36m2011\u001b[0m\u001b[33m...\u001b[0m\n"
      ]
     },
     "metadata": {},
     "output_type": "display_data"
    },
    {
     "data": {
      "text/html": [
       "<pre style=\"white-space:pre;overflow-x:auto;line-height:normal;font-family:Menlo,'DejaVu Sans Mono',consolas,'Courier New',monospace\">Fetching songs <span style=\"color: #008080; text-decoration-color: #008080; font-weight: bold\">1</span> to <span style=\"color: #008080; text-decoration-color: #008080; font-weight: bold\">100</span> for year <span style=\"color: #008080; text-decoration-color: #008080; font-weight: bold\">2011</span><span style=\"color: #808000; text-decoration-color: #808000\">...</span>\n",
       "</pre>\n"
      ],
      "text/plain": [
       "Fetching songs \u001b[1;36m1\u001b[0m to \u001b[1;36m100\u001b[0m for year \u001b[1;36m2011\u001b[0m\u001b[33m...\u001b[0m\n"
      ]
     },
     "metadata": {},
     "output_type": "display_data"
    },
    {
     "data": {
      "text/html": [
       "<pre style=\"white-space:pre;overflow-x:auto;line-height:normal;font-family:Menlo,'DejaVu Sans Mono',consolas,'Courier New',monospace\">Fetching songs <span style=\"color: #008080; text-decoration-color: #008080; font-weight: bold\">101</span> to <span style=\"color: #008080; text-decoration-color: #008080; font-weight: bold\">200</span> for year <span style=\"color: #008080; text-decoration-color: #008080; font-weight: bold\">2011</span><span style=\"color: #808000; text-decoration-color: #808000\">...</span>\n",
       "</pre>\n"
      ],
      "text/plain": [
       "Fetching songs \u001b[1;36m101\u001b[0m to \u001b[1;36m200\u001b[0m for year \u001b[1;36m2011\u001b[0m\u001b[33m...\u001b[0m\n"
      ]
     },
     "metadata": {},
     "output_type": "display_data"
    },
    {
     "data": {
      "text/html": [
       "<pre style=\"white-space:pre;overflow-x:auto;line-height:normal;font-family:Menlo,'DejaVu Sans Mono',consolas,'Courier New',monospace\">Fetching songs <span style=\"color: #008080; text-decoration-color: #008080; font-weight: bold\">201</span> to <span style=\"color: #008080; text-decoration-color: #008080; font-weight: bold\">300</span> for year <span style=\"color: #008080; text-decoration-color: #008080; font-weight: bold\">2011</span><span style=\"color: #808000; text-decoration-color: #808000\">...</span>\n",
       "</pre>\n"
      ],
      "text/plain": [
       "Fetching songs \u001b[1;36m201\u001b[0m to \u001b[1;36m300\u001b[0m for year \u001b[1;36m2011\u001b[0m\u001b[33m...\u001b[0m\n"
      ]
     },
     "metadata": {},
     "output_type": "display_data"
    },
    {
     "data": {
      "text/html": [
       "<pre style=\"white-space:pre;overflow-x:auto;line-height:normal;font-family:Menlo,'DejaVu Sans Mono',consolas,'Courier New',monospace\">Fetching songs <span style=\"color: #008080; text-decoration-color: #008080; font-weight: bold\">301</span> to <span style=\"color: #008080; text-decoration-color: #008080; font-weight: bold\">400</span> for year <span style=\"color: #008080; text-decoration-color: #008080; font-weight: bold\">2011</span><span style=\"color: #808000; text-decoration-color: #808000\">...</span>\n",
       "</pre>\n"
      ],
      "text/plain": [
       "Fetching songs \u001b[1;36m301\u001b[0m to \u001b[1;36m400\u001b[0m for year \u001b[1;36m2011\u001b[0m\u001b[33m...\u001b[0m\n"
      ]
     },
     "metadata": {},
     "output_type": "display_data"
    },
    {
     "data": {
      "text/html": [
       "<pre style=\"white-space:pre;overflow-x:auto;line-height:normal;font-family:Menlo,'DejaVu Sans Mono',consolas,'Courier New',monospace\">Fetching songs <span style=\"color: #008080; text-decoration-color: #008080; font-weight: bold\">401</span> to <span style=\"color: #008080; text-decoration-color: #008080; font-weight: bold\">500</span> for year <span style=\"color: #008080; text-decoration-color: #008080; font-weight: bold\">2011</span><span style=\"color: #808000; text-decoration-color: #808000\">...</span>\n",
       "</pre>\n"
      ],
      "text/plain": [
       "Fetching songs \u001b[1;36m401\u001b[0m to \u001b[1;36m500\u001b[0m for year \u001b[1;36m2011\u001b[0m\u001b[33m...\u001b[0m\n"
      ]
     },
     "metadata": {},
     "output_type": "display_data"
    },
    {
     "data": {
      "text/html": [
       "<pre style=\"white-space:pre;overflow-x:auto;line-height:normal;font-family:Menlo,'DejaVu Sans Mono',consolas,'Courier New',monospace\">Fetching songs <span style=\"color: #008080; text-decoration-color: #008080; font-weight: bold\">501</span> to <span style=\"color: #008080; text-decoration-color: #008080; font-weight: bold\">600</span> for year <span style=\"color: #008080; text-decoration-color: #008080; font-weight: bold\">2011</span><span style=\"color: #808000; text-decoration-color: #808000\">...</span>\n",
       "</pre>\n"
      ],
      "text/plain": [
       "Fetching songs \u001b[1;36m501\u001b[0m to \u001b[1;36m600\u001b[0m for year \u001b[1;36m2011\u001b[0m\u001b[33m...\u001b[0m\n"
      ]
     },
     "metadata": {},
     "output_type": "display_data"
    },
    {
     "data": {
      "text/html": [
       "<pre style=\"white-space:pre;overflow-x:auto;line-height:normal;font-family:Menlo,'DejaVu Sans Mono',consolas,'Courier New',monospace\">Fetching songs <span style=\"color: #008080; text-decoration-color: #008080; font-weight: bold\">601</span> to <span style=\"color: #008080; text-decoration-color: #008080; font-weight: bold\">700</span> for year <span style=\"color: #008080; text-decoration-color: #008080; font-weight: bold\">2011</span><span style=\"color: #808000; text-decoration-color: #808000\">...</span>\n",
       "</pre>\n"
      ],
      "text/plain": [
       "Fetching songs \u001b[1;36m601\u001b[0m to \u001b[1;36m700\u001b[0m for year \u001b[1;36m2011\u001b[0m\u001b[33m...\u001b[0m\n"
      ]
     },
     "metadata": {},
     "output_type": "display_data"
    },
    {
     "data": {
      "text/html": [
       "<pre style=\"white-space:pre;overflow-x:auto;line-height:normal;font-family:Menlo,'DejaVu Sans Mono',consolas,'Courier New',monospace\">Successfully saved <span style=\"color: #008080; text-decoration-color: #008080; font-weight: bold\">1232</span> songs to <span style=\"color: #008000; text-decoration-color: #008000\">'musicbrainz_songs_2011.csv'</span>\n",
       "</pre>\n"
      ],
      "text/plain": [
       "Successfully saved \u001b[1;36m1232\u001b[0m songs to \u001b[32m'musicbrainz_songs_2011.csv'\u001b[0m\n"
      ]
     },
     "metadata": {},
     "output_type": "display_data"
    },
    {
     "data": {
      "text/html": [
       "<div>\n",
       "<style scoped>\n",
       "    .dataframe tbody tr th:only-of-type {\n",
       "        vertical-align: middle;\n",
       "    }\n",
       "\n",
       "    .dataframe tbody tr th {\n",
       "        vertical-align: top;\n",
       "    }\n",
       "\n",
       "    .dataframe thead th {\n",
       "        text-align: right;\n",
       "    }\n",
       "</style>\n",
       "<table border=\"1\" class=\"dataframe\">\n",
       "  <thead>\n",
       "    <tr style=\"text-align: right;\">\n",
       "      <th></th>\n",
       "      <th>Title</th>\n",
       "      <th>Artist</th>\n",
       "      <th>Year</th>\n",
       "    </tr>\n",
       "  </thead>\n",
       "  <tbody>\n",
       "    <tr>\n",
       "      <th>0</th>\n",
       "      <td>Kick1 Kick3</td>\n",
       "      <td>Timo Maas</td>\n",
       "      <td>2010-10</td>\n",
       "    </tr>\n",
       "    <tr>\n",
       "      <th>1</th>\n",
       "      <td>Broken Arrow</td>\n",
       "      <td>Pixie Lott</td>\n",
       "      <td>2010</td>\n",
       "    </tr>\n",
       "    <tr>\n",
       "      <th>2</th>\n",
       "      <td>Het Potatis</td>\n",
       "      <td>Testicle Hazard</td>\n",
       "      <td>2010</td>\n",
       "    </tr>\n",
       "    <tr>\n",
       "      <th>3</th>\n",
       "      <td>Void of Nebulae</td>\n",
       "      <td>Infestum</td>\n",
       "      <td>2010-02</td>\n",
       "    </tr>\n",
       "    <tr>\n",
       "      <th>4</th>\n",
       "      <td>Pittsburgh Penguins Theme Song - Boys Of Winter</td>\n",
       "      <td>Icarus Witch</td>\n",
       "      <td>2010-04-28</td>\n",
       "    </tr>\n",
       "    <tr>\n",
       "      <th>...</th>\n",
       "      <td>...</td>\n",
       "      <td>...</td>\n",
       "      <td>...</td>\n",
       "    </tr>\n",
       "    <tr>\n",
       "      <th>1227</th>\n",
       "      <td>I Could Fall in Love</td>\n",
       "      <td>Karen Rodriguez</td>\n",
       "      <td>2011-03-10</td>\n",
       "    </tr>\n",
       "    <tr>\n",
       "      <th>1228</th>\n",
       "      <td>All by Myself</td>\n",
       "      <td>Pia Toscano</td>\n",
       "      <td>2011-03-10</td>\n",
       "    </tr>\n",
       "    <tr>\n",
       "      <th>1229</th>\n",
       "      <td>Mountain Bitch</td>\n",
       "      <td>Black Wizard</td>\n",
       "      <td>2011-02-18</td>\n",
       "    </tr>\n",
       "    <tr>\n",
       "      <th>1230</th>\n",
       "      <td>Kiss</td>\n",
       "      <td>Glee Cast</td>\n",
       "      <td>2011-03-08</td>\n",
       "    </tr>\n",
       "    <tr>\n",
       "      <th>1231</th>\n",
       "      <td>Locrian Singles</td>\n",
       "      <td>RIBS</td>\n",
       "      <td>2011-01-05</td>\n",
       "    </tr>\n",
       "  </tbody>\n",
       "</table>\n",
       "<p>1232 rows × 3 columns</p>\n",
       "</div>"
      ],
      "text/plain": [
       "                                                Title           Artist  \\\n",
       "0                                         Kick1 Kick3        Timo Maas   \n",
       "1                                        Broken Arrow       Pixie Lott   \n",
       "2                                         Het Potatis  Testicle Hazard   \n",
       "3                                     Void of Nebulae         Infestum   \n",
       "4     Pittsburgh Penguins Theme Song - Boys Of Winter     Icarus Witch   \n",
       "...                                               ...              ...   \n",
       "1227                             I Could Fall in Love  Karen Rodriguez   \n",
       "1228                                    All by Myself      Pia Toscano   \n",
       "1229                                   Mountain Bitch     Black Wizard   \n",
       "1230                                             Kiss        Glee Cast   \n",
       "1231                                  Locrian Singles             RIBS   \n",
       "\n",
       "            Year  \n",
       "0        2010-10  \n",
       "1           2010  \n",
       "2           2010  \n",
       "3        2010-02  \n",
       "4     2010-04-28  \n",
       "...          ...  \n",
       "1227  2011-03-10  \n",
       "1228  2011-03-10  \n",
       "1229  2011-02-18  \n",
       "1230  2011-03-08  \n",
       "1231  2011-01-05  \n",
       "\n",
       "[1232 rows x 3 columns]"
      ]
     },
     "execution_count": 72,
     "metadata": {},
     "output_type": "execute_result"
    }
   ],
   "source": [
    "def fetch_songs_by_year(year, max_songs):\n",
    "    all_songs = []  # Store collected songs\n",
    "    batch_size = 100  # Max allowed per request\n",
    "    offset = 0  # Start position\n",
    "\n",
    "    while len(all_songs) < max_songs:\n",
    "        try:\n",
    "            print(f\"Fetching songs {offset + 1} to {offset + batch_size} for year {year}...\")\n",
    "            result = musicbrainzngs.search_releases(\n",
    "                date=year,  \n",
    "                status=\"official\",\n",
    "                primarytype=\"single\",\n",
    "                limit=batch_size,\n",
    "                offset=offset\n",
    "            )\n",
    "            songs = result.get(\"release-list\", [])\n",
    "\n",
    "            for song in songs:\n",
    "                # Extract the year from the release date\n",
    "                release_date = song.get(\"date\", \"\")\n",
    "                release_year = release_date.split(\"-\")[0] if release_date else None\n",
    "\n",
    "                # Only include songs from the specified year\n",
    "                if release_year == str(year):\n",
    "                    title = song.get(\"title\", \"Unknown Title\")\n",
    "                    artist_credit = song.get(\"artist-credit\", [])\n",
    "                    artist = artist_credit[0][\"name\"] if artist_credit else \"Unknown Artist\"\n",
    "                    all_songs.append({\"Title\": title, \"Artist\": artist, \"Year\": release_date})\n",
    "\n",
    "            offset += batch_size\n",
    "\n",
    "            # Avoid hitting API rate limits, wait 1 second between calls\n",
    "            time.sleep(1)\n",
    "\n",
    "        except musicbrainzngs.WebServiceError as e:\n",
    "            print(f\"Error: {e}\")\n",
    "            break  # Exit the loop if there's an error\n",
    "\n",
    "    # Ensure exactly max_songs results are returned\n",
    "    return all_songs[:max_songs]\n",
    "\n",
    "# Fetch 200 songs from 2017\n",
    "all_songs = []\n",
    "\n",
    "for year in range(2010, 2012):\n",
    "    print(f\"Fetching songs for year {year}...\")\n",
    "    songs = fetch_songs_by_year(year, 616)  # Fetch 616 songs per year\n",
    "    all_songs.extend(songs)  # Add songs to the main list\n",
    "\n",
    "    # Convert to DataFrame & Save to CSV\n",
    "df = pd.DataFrame(all_songs)\n",
    "df.to_csv(f\"musicbrainz_songs_{year}.csv\", index=False)\n",
    "\n",
    "# Check how many songs were retrieved\n",
    "print(f\"Successfully saved {len(df)} songs to 'musicbrainz_songs_{year}.csv'\")\n",
    "df"
   ]
  },
  {
   "cell_type": "code",
   "execution_count": 74,
   "id": "b21e391f-ee0f-435a-aa0b-47ee7aeb409c",
   "metadata": {},
   "outputs": [
    {
     "data": {
      "text/html": [
       "<pre style=\"white-space:pre;overflow-x:auto;line-height:normal;font-family:Menlo,'DejaVu Sans Mono',consolas,'Courier New',monospace\">Fetching songs for year <span style=\"color: #008080; text-decoration-color: #008080; font-weight: bold\">2010</span><span style=\"color: #808000; text-decoration-color: #808000\">...</span>\n",
       "</pre>\n"
      ],
      "text/plain": [
       "Fetching songs for year \u001b[1;36m2010\u001b[0m\u001b[33m...\u001b[0m\n"
      ]
     },
     "metadata": {},
     "output_type": "display_data"
    },
    {
     "data": {
      "text/html": [
       "<pre style=\"white-space:pre;overflow-x:auto;line-height:normal;font-family:Menlo,'DejaVu Sans Mono',consolas,'Courier New',monospace\">Fetching songs <span style=\"color: #008080; text-decoration-color: #008080; font-weight: bold\">1</span> to <span style=\"color: #008080; text-decoration-color: #008080; font-weight: bold\">100</span> for year <span style=\"color: #008080; text-decoration-color: #008080; font-weight: bold\">2010</span><span style=\"color: #808000; text-decoration-color: #808000\">...</span>\n",
       "</pre>\n"
      ],
      "text/plain": [
       "Fetching songs \u001b[1;36m1\u001b[0m to \u001b[1;36m100\u001b[0m for year \u001b[1;36m2010\u001b[0m\u001b[33m...\u001b[0m\n"
      ]
     },
     "metadata": {},
     "output_type": "display_data"
    },
    {
     "ename": "KeyboardInterrupt",
     "evalue": "",
     "output_type": "error",
     "traceback": [
      "\u001b[1;31m---------------------------------------------------------------------------\u001b[0m",
      "\u001b[1;31mKeyboardInterrupt\u001b[0m                         Traceback (most recent call last)",
      "Cell \u001b[1;32mIn[74], line 73\u001b[0m\n\u001b[0;32m     71\u001b[0m \u001b[38;5;28;01mfor\u001b[39;00m year \u001b[38;5;129;01min\u001b[39;00m \u001b[38;5;28mrange\u001b[39m(\u001b[38;5;241m2010\u001b[39m, \u001b[38;5;241m2011\u001b[39m):\n\u001b[0;32m     72\u001b[0m     \u001b[38;5;28mprint\u001b[39m(\u001b[38;5;124mf\u001b[39m\u001b[38;5;124m\"\u001b[39m\u001b[38;5;124mFetching songs for year \u001b[39m\u001b[38;5;132;01m{\u001b[39;00myear\u001b[38;5;132;01m}\u001b[39;00m\u001b[38;5;124m...\u001b[39m\u001b[38;5;124m\"\u001b[39m)\n\u001b[1;32m---> 73\u001b[0m     songs \u001b[38;5;241m=\u001b[39m \u001b[43mfetch_songs_by_year\u001b[49m\u001b[43m(\u001b[49m\u001b[43myear\u001b[49m\u001b[43m,\u001b[49m\u001b[43m \u001b[49m\u001b[38;5;241;43m616\u001b[39;49m\u001b[43m)\u001b[49m  \u001b[38;5;66;03m# Fetch 616 songs per year\u001b[39;00m\n\u001b[0;32m     74\u001b[0m     all_songs\u001b[38;5;241m.\u001b[39mextend(songs)  \u001b[38;5;66;03m# Add songs to the main list\u001b[39;00m\n\u001b[0;32m     76\u001b[0m \u001b[38;5;66;03m# Convert the accumulated list to a DataFrame\u001b[39;00m\n",
      "Cell \u001b[1;32mIn[74], line 46\u001b[0m, in \u001b[0;36mfetch_songs_by_year\u001b[1;34m(year, max_songs)\u001b[0m\n\u001b[0;32m     44\u001b[0m \u001b[38;5;28;01mif\u001b[39;00m release_group_id:\n\u001b[0;32m     45\u001b[0m     \u001b[38;5;28;01mtry\u001b[39;00m:\n\u001b[1;32m---> 46\u001b[0m         release_group_info \u001b[38;5;241m=\u001b[39m \u001b[43mmusicbrainzngs\u001b[49m\u001b[38;5;241;43m.\u001b[39;49m\u001b[43mget_release_group_by_id\u001b[49m\u001b[43m(\u001b[49m\u001b[43mrelease_group_id\u001b[49m\u001b[43m,\u001b[49m\u001b[43m \u001b[49m\u001b[43mincludes\u001b[49m\u001b[38;5;241;43m=\u001b[39;49m\u001b[43m[\u001b[49m\u001b[38;5;124;43m\"\u001b[39;49m\u001b[38;5;124;43mtags\u001b[39;49m\u001b[38;5;124;43m\"\u001b[39;49m\u001b[43m]\u001b[49m\u001b[43m)\u001b[49m\n\u001b[0;32m     47\u001b[0m         tags \u001b[38;5;241m=\u001b[39m release_group_info\u001b[38;5;241m.\u001b[39mget(\u001b[38;5;124m\"\u001b[39m\u001b[38;5;124mrelease-group\u001b[39m\u001b[38;5;124m\"\u001b[39m, {})\u001b[38;5;241m.\u001b[39mget(\u001b[38;5;124m\"\u001b[39m\u001b[38;5;124mtag-list\u001b[39m\u001b[38;5;124m\"\u001b[39m, [])\n\u001b[0;32m     48\u001b[0m         genre \u001b[38;5;241m=\u001b[39m \u001b[38;5;124m\"\u001b[39m\u001b[38;5;124m, \u001b[39m\u001b[38;5;124m\"\u001b[39m\u001b[38;5;241m.\u001b[39mjoin([tag[\u001b[38;5;124m\"\u001b[39m\u001b[38;5;124mname\u001b[39m\u001b[38;5;124m\"\u001b[39m] \u001b[38;5;28;01mfor\u001b[39;00m tag \u001b[38;5;129;01min\u001b[39;00m tags]) \u001b[38;5;28;01mif\u001b[39;00m tags \u001b[38;5;28;01melse\u001b[39;00m \u001b[38;5;124m\"\u001b[39m\u001b[38;5;124mUnknown Genre\u001b[39m\u001b[38;5;124m\"\u001b[39m\n",
      "File \u001b[1;32mc:\\Users\\Hani\\anaconda3\\envs\\DALAS\\Lib\\site-packages\\musicbrainzngs\\musicbrainz.py:890\u001b[0m, in \u001b[0;36mget_release_group_by_id\u001b[1;34m(id, includes, release_status, release_type)\u001b[0m\n\u001b[0;32m    884\u001b[0m \u001b[38;5;250m\u001b[39m\u001b[38;5;124;03m\"\"\"Get the release group with the MusicBrainz `id` as a dict\u001b[39;00m\n\u001b[0;32m    885\u001b[0m \u001b[38;5;124;03mwith a 'release-group' key.\u001b[39;00m\n\u001b[0;32m    886\u001b[0m \n\u001b[0;32m    887\u001b[0m \u001b[38;5;124;03m*Available includes*: {includes}\"\"\"\u001b[39;00m\n\u001b[0;32m    888\u001b[0m params \u001b[38;5;241m=\u001b[39m _check_filter_and_make_params(\u001b[38;5;124m\"\u001b[39m\u001b[38;5;124mrelease-group\u001b[39m\u001b[38;5;124m\"\u001b[39m, includes,\n\u001b[0;32m    889\u001b[0m                                        release_status, release_type)\n\u001b[1;32m--> 890\u001b[0m \u001b[38;5;28;01mreturn\u001b[39;00m \u001b[43m_do_mb_query\u001b[49m\u001b[43m(\u001b[49m\u001b[38;5;124;43m\"\u001b[39;49m\u001b[38;5;124;43mrelease-group\u001b[39;49m\u001b[38;5;124;43m\"\u001b[39;49m\u001b[43m,\u001b[49m\u001b[43m \u001b[49m\u001b[38;5;28;43mid\u001b[39;49m\u001b[43m,\u001b[49m\u001b[43m \u001b[49m\u001b[43mincludes\u001b[49m\u001b[43m,\u001b[49m\u001b[43m \u001b[49m\u001b[43mparams\u001b[49m\u001b[43m)\u001b[49m\n",
      "File \u001b[1;32mc:\\Users\\Hani\\anaconda3\\envs\\DALAS\\Lib\\site-packages\\musicbrainzngs\\musicbrainz.py:728\u001b[0m, in \u001b[0;36m_do_mb_query\u001b[1;34m(entity, id, includes, params)\u001b[0m\n\u001b[0;32m    726\u001b[0m \u001b[38;5;66;03m# Build the endpoint components.\u001b[39;00m\n\u001b[0;32m    727\u001b[0m path \u001b[38;5;241m=\u001b[39m \u001b[38;5;124m'\u001b[39m\u001b[38;5;132;01m%s\u001b[39;00m\u001b[38;5;124m/\u001b[39m\u001b[38;5;132;01m%s\u001b[39;00m\u001b[38;5;124m'\u001b[39m \u001b[38;5;241m%\u001b[39m (entity, \u001b[38;5;28mid\u001b[39m)\n\u001b[1;32m--> 728\u001b[0m \u001b[38;5;28;01mreturn\u001b[39;00m \u001b[43m_mb_request\u001b[49m\u001b[43m(\u001b[49m\u001b[43mpath\u001b[49m\u001b[43m,\u001b[49m\u001b[43m \u001b[49m\u001b[38;5;124;43m'\u001b[39;49m\u001b[38;5;124;43mGET\u001b[39;49m\u001b[38;5;124;43m'\u001b[39;49m\u001b[43m,\u001b[49m\u001b[43m \u001b[49m\u001b[43mauth_required\u001b[49m\u001b[43m,\u001b[49m\u001b[43m \u001b[49m\u001b[43margs\u001b[49m\u001b[38;5;241;43m=\u001b[39;49m\u001b[43margs\u001b[49m\u001b[43m)\u001b[49m\n",
      "File \u001b[1;32mc:\\Users\\Hani\\anaconda3\\envs\\DALAS\\Lib\\site-packages\\musicbrainzngs\\musicbrainz.py:411\u001b[0m, in \u001b[0;36m_rate_limit.__call__\u001b[1;34m(self, *args, **kwargs)\u001b[0m\n\u001b[0;32m    409\u001b[0m \u001b[38;5;66;03m# Delay if necessary.\u001b[39;00m\n\u001b[0;32m    410\u001b[0m \u001b[38;5;28;01mwhile\u001b[39;00m \u001b[38;5;28mself\u001b[39m\u001b[38;5;241m.\u001b[39mremaining_requests \u001b[38;5;241m<\u001b[39m \u001b[38;5;241m0.999\u001b[39m:\n\u001b[1;32m--> 411\u001b[0m     \u001b[43mtime\u001b[49m\u001b[38;5;241;43m.\u001b[39;49m\u001b[43msleep\u001b[49m\u001b[43m(\u001b[49m\u001b[43m(\u001b[49m\u001b[38;5;241;43m1.0\u001b[39;49m\u001b[43m \u001b[49m\u001b[38;5;241;43m-\u001b[39;49m\u001b[43m \u001b[49m\u001b[38;5;28;43mself\u001b[39;49m\u001b[38;5;241;43m.\u001b[39;49m\u001b[43mremaining_requests\u001b[49m\u001b[43m)\u001b[49m\u001b[43m \u001b[49m\u001b[38;5;241;43m*\u001b[39;49m\n\u001b[0;32m    412\u001b[0m \u001b[43m               \u001b[49m\u001b[43m(\u001b[49m\u001b[43mlimit_requests\u001b[49m\u001b[43m \u001b[49m\u001b[38;5;241;43m/\u001b[39;49m\u001b[43m \u001b[49m\u001b[43mlimit_interval\u001b[49m\u001b[43m)\u001b[49m\u001b[43m)\u001b[49m\n\u001b[0;32m    413\u001b[0m     \u001b[38;5;28mself\u001b[39m\u001b[38;5;241m.\u001b[39m_update_remaining()\n\u001b[0;32m    415\u001b[0m \u001b[38;5;66;03m# Call the original function, \"paying\" for this call.\u001b[39;00m\n",
      "\u001b[1;31mKeyboardInterrupt\u001b[0m: "
     ]
    }
   ],
   "source": [
    "import musicbrainzngs\n",
    "import time\n",
    "import pandas as pd\n",
    "\n",
    "def fetch_songs_by_year(year, max_songs):\n",
    "    all_songs = []  # Store collected songs\n",
    "    batch_size = 100  # Max allowed per request\n",
    "    offset = 0  # Start position\n",
    "\n",
    "    while len(all_songs) < max_songs:\n",
    "        try:\n",
    "            print(f\"Fetching songs {offset + 1} to {offset + batch_size} for year {year}...\")\n",
    "            result = musicbrainzngs.search_releases(\n",
    "                date=year,  \n",
    "                status=\"official\",\n",
    "                primarytype=[\"album\", \"single\", \"ep\"],\n",
    "                limit=batch_size,\n",
    "                offset=offset\n",
    "            )\n",
    "\n",
    "            # Filter out releases with secondarytype \"audiobook\"\n",
    "            filtered_songs = [\n",
    "                song for song in result.get(\"release-list\", [])\n",
    "                if \"release-group\" not in song or \"secondary-type-list\" not in song[\"release-group\"] or \"audiobook\" not in [stype.lower() for stype in song[\"release-group\"][\"secondary-type-list\"]]\n",
    "            ]\n",
    "\n",
    "            for song in filtered_songs:\n",
    "                # Extract the year from the release date\n",
    "                release_date = song.get(\"date\", \"\")\n",
    "                release_year = release_date.split(\"-\")[0] if release_date else None\n",
    "\n",
    "                # Validate the year\n",
    "                if release_year and release_year.isdigit():\n",
    "                    release_year = int(release_year)\n",
    "                    # Only include songs from the specified year and within a reasonable range\n",
    "                    if release_year == year and 1900 <= release_year <= 2100:  # Adjust range as needed\n",
    "                        title = song.get(\"title\", \"Unknown Title\")\n",
    "                        artist_credit = song.get(\"artist-credit\", [])\n",
    "                        artist = artist_credit[0][\"name\"] if artist_credit else \"Unknown Artist\"\n",
    "\n",
    "                        # Fetch genre (tags) for the release group\n",
    "                        release_group_id = song.get(\"release-group\", {}).get(\"id\")\n",
    "                        genre = \"Unknown Genre\"\n",
    "                        if release_group_id:\n",
    "                            try:\n",
    "                                release_group_info = musicbrainzngs.get_release_group_by_id(release_group_id, includes=[\"tags\"])\n",
    "                                tags = release_group_info.get(\"release-group\", {}).get(\"tag-list\", [])\n",
    "                                genre = \", \".join([tag[\"name\"] for tag in tags]) if tags else \"Unknown Genre\"\n",
    "                            except musicbrainzngs.WebServiceError as e:\n",
    "                                print(f\"Error fetching genre for release group {release_group_id}: {e}\")\n",
    "\n",
    "                        all_songs.append({\"Title\": title, \"Artist\": artist, \"Year\": release_year, \"Genre\": genre})\n",
    "\n",
    "            offset += batch_size\n",
    "\n",
    "            # Avoid hitting API rate limits, wait 1 second between calls\n",
    "            time.sleep(1)\n",
    "\n",
    "        except musicbrainzngs.WebServiceError as e:\n",
    "            print(f\"Error: {e}\")\n",
    "            break  # Exit the loop if there's an error\n",
    "\n",
    "    # Ensure exactly max_songs results are returned\n",
    "    return all_songs[:max_songs]\n",
    "\n",
    "# Set up MusicBrainz user agent (required)\n",
    "musicbrainzngs.set_useragent(\"my-app\", \"0.1\", \"my-email@example.com\")\n",
    "\n",
    "# Fetch songs for each year from 2010 to 2023 and accumulate them in one list\n",
    "all_songs = []  # Initialize the list to accumulate all songs\n",
    "for year in range(2010, 2011):\n",
    "    print(f\"Fetching songs for year {year}...\")\n",
    "    songs = fetch_songs_by_year(year, 616)  # Fetch 616 songs per year\n",
    "    all_songs.extend(songs)  # Add songs to the main list\n",
    "\n",
    "# Convert the accumulated list to a DataFrame\n",
    "df = pd.DataFrame(all_songs)\n",
    "\n",
    "# Save all songs to a single CSV file\n",
    "output_file = \"musicbrainz_songs_with_genre_2010_to_2023.csv\"\n",
    "df.to_csv(output_file, index=False)\n",
    "\n",
    "# Check how many songs were retrieved\n",
    "print(f\"Successfully saved {len(df)} songs to '{output_file}'\")\n",
    "print(df)"
   ]
  },
  {
   "cell_type": "code",
   "execution_count": null,
   "id": "1d849f6e-a40d-459f-af56-8509c92d4c5b",
   "metadata": {},
   "outputs": [],
   "source": []
  }
 ],
 "metadata": {
  "kernelspec": {
   "display_name": "Python 3 (ipykernel)",
   "language": "python",
   "name": "python3"
  },
  "language_info": {
   "codemirror_mode": {
    "name": "ipython",
    "version": 3
   },
   "file_extension": ".py",
   "mimetype": "text/x-python",
   "name": "python",
   "nbconvert_exporter": "python",
   "pygments_lexer": "ipython3",
   "version": "3.13.1"
  }
 },
 "nbformat": 4,
 "nbformat_minor": 5
}
