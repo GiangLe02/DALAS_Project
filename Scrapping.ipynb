{
 "cells": [
  {
   "cell_type": "code",
   "execution_count": 66,
   "metadata": {},
   "outputs": [],
   "source": [
    "import requests\n",
    "import base64\n",
    "from bs4 import BeautifulSoup\n",
    "import re"
   ]
  },
  {
   "cell_type": "code",
   "execution_count": null,
   "metadata": {},
   "outputs": [],
   "source": [
    "# Spotify API credentials\n",
    "CLIENT_ID = '' #Spotify API client ID\n",
    "CLIENT_SECRET = '' #Spotify API client secret"
   ]
  },
  {
   "cell_type": "code",
   "execution_count": 2,
   "metadata": {},
   "outputs": [],
   "source": [
    "# Get an access token\n",
    "def get_access_token(client_id, client_secret):\n",
    "    auth_url = 'https://accounts.spotify.com/api/token'\n",
    "    auth_header = base64.b64encode(f\"{client_id}:{client_secret}\".encode()).decode()\n",
    "    headers = {\n",
    "        'Authorization': f'Basic {auth_header}'\n",
    "    }\n",
    "    data = {\n",
    "        'grant_type': 'client_credentials'\n",
    "    }\n",
    "    response = requests.post(auth_url, headers=headers, data=data)\n",
    "    if response.status_code == 200:\n",
    "        return response.json().get('access_token')\n",
    "    else:\n",
    "        print(f\"Error getting access token: {response.status_code} - {response.text}\")\n",
    "        return None"
   ]
  },
  {
   "cell_type": "code",
   "execution_count": null,
   "metadata": {},
   "outputs": [],
   "source": [
    "# Search for tracks from a specific year\n",
    "def search_tracks(year, access_token):\n",
    "    url = 'https://api.spotify.com/v1/search'\n",
    "    headers = {\n",
    "        'Authorization': f'Bearer {access_token}'\n",
    "    }\n",
    "    params = {\n",
    "        'q': f'year:{year}',\n",
    "        'limit': 50,\n",
    "        'offset': 0,\n",
    "        'type': 'track',  \n",
    "        'market': 'US'  # should we keep this?\n",
    "    }\n",
    "    response = requests.get(url, headers=headers, params=params)\n",
    "    if response.status_code == 200:\n",
    "        return response.json()\n",
    "    else:\n",
    "        print(f\"Error fetching tracks: {response.status_code} - {response.text}\")\n",
    "        return None"
   ]
  },
  {
   "cell_type": "code",
   "execution_count": null,
   "metadata": {},
   "outputs": [],
   "source": [
    "# Search for the track ID by its name and its artist's name\n",
    "def get_track_id(track_name, artist_name, access_token):\n",
    "    url = 'https://api.spotify.com/v1/search'\n",
    "    headers = {\n",
    "        'Authorization': f'Bearer {access_token}'\n",
    "    }\n",
    "    params = {\n",
    "        'q': f'track:{track_name} artist:{artist_name}', \n",
    "        'limit': 1,\n",
    "        'type': 'track',  \n",
    "        'market': 'US'  # should we keep this?\n",
    "    }\n",
    "    response = requests.get(url, headers=headers, params=params)\n",
    "    if response.status_code == 200:\n",
    "        # Parse the response JSON\n",
    "        search_results = response.json()\n",
    "        # Get the track ID of the first search result\n",
    "        if 'tracks' in search_results and search_results['tracks']['items']:\n",
    "            track_id = search_results['tracks']['items'][0]['id']\n",
    "            return track_id\n",
    "        else:\n",
    "            return None\n",
    "    else:\n",
    "        print(f\"Error: {response.status_code}, {response.text}\")\n",
    "        return None\n"
   ]
  },
  {
   "cell_type": "code",
   "execution_count": 54,
   "metadata": {},
   "outputs": [],
   "source": [
    "# Search for the artist ID by their name\n",
    "def get_artist_id(artist_name, access_token):\n",
    "    url = 'https://api.spotify.com/v1/search'\n",
    "    headers = {\n",
    "        'Authorization': f'Bearer {access_token}'\n",
    "    }\n",
    "    params = {\n",
    "        'q': artist_name, \n",
    "        'limit': 1,\n",
    "        'type': 'artist',  \n",
    "        'market': 'US'  # should we keep this?\n",
    "    }\n",
    "    response = requests.get(url, headers=headers, params=params)\n",
    "    if response.status_code == 200:\n",
    "        # Parse the response JSON\n",
    "        search_results = response.json()\n",
    "        # Get the track ID of the first search result\n",
    "        if 'artists' in search_results:\n",
    "            artist_id = search_results['artists']['items'][0]['id']\n",
    "            return artist_id\n",
    "        else:\n",
    "            return None  # No artist found for the name\n",
    "    else:\n",
    "        print(f\"Error {response.status_code}: {response.text}\")\n",
    "        return None"
   ]
  },
  {
   "cell_type": "code",
   "execution_count": null,
   "metadata": {},
   "outputs": [],
   "source": [
    "def get_track_features(track_id, access_token):\n",
    "    track_url = 'https://api.spotify.com/v1/tracks/{track_id}'\n",
    "    headers = {\n",
    "        'Authorization': f'Bearer {access_token}'\n",
    "    }\n",
    "    url = track_url.format(track_id=track_id)\n",
    "    response = requests.get(url, headers=headers)\n",
    "    if response.status_code == 200:\n",
    "        # Parse the response JSON\n",
    "        track_data = response.json()\n",
    "        # Extracting features and storing them in a dictionary\n",
    "        track_info = {\n",
    "        'track_name': track_data['name'],\n",
    "        'main_artist': track_data['artists'][0]['name'], # might remove this\n",
    "        'all_artists': [],  \n",
    "        'popularity': track_data['popularity'],\n",
    "        'duration_ms': track_data['duration_ms'],\n",
    "        'explicit': track_data['explicit'],\n",
    "        'release_date': track_data['album']['release_date']\n",
    "        }\n",
    "        # to get all the artists featured on the song\n",
    "        for artist in track_data['artists']:\n",
    "            name=artist['name']\n",
    "            track_info['all_artists'].append(name)\n",
    "\n",
    "        return track_info\n",
    "\n",
    "    else:\n",
    "        print(f\"Error: {response.status_code}, {response.text}\")\n",
    "        return 0"
   ]
  },
  {
   "cell_type": "code",
   "execution_count": 57,
   "metadata": {},
   "outputs": [],
   "source": [
    "def get_artist_features(artist_id, access_token):\n",
    "    url = 'https://api.spotify.com/v1/artists/{artist_id}'\n",
    "    headers = {\n",
    "        'Authorization': f'Bearer {access_token}'\n",
    "    }\n",
    "    url = url.format(artist_id=artist_id)\n",
    "    response = requests.get(url, headers=headers)\n",
    "    if response.status_code == 200:\n",
    "        # Parse the response JSON\n",
    "        artist_data = response.json()\n",
    "        # Extracting features and storing them in a dictionary\n",
    "        artist_info = {\n",
    "        'artist_name': artist_data['name'],\n",
    "        'genres': artist_data['genres'],\n",
    "        'popularity': artist_data['popularity'],\n",
    "        'followers': artist_data['followers']['total'],\n",
    "        }\n",
    "        return artist_info\n",
    "\n",
    "    else:\n",
    "        print(f\"Error: {response.status_code}, {response.text}\")\n",
    "        return 0"
   ]
  },
  {
   "cell_type": "code",
   "execution_count": null,
   "metadata": {},
   "outputs": [],
   "source": [
    "# MusicBrainz and AcouaticBrainz\n",
    "\n",
    "def get_song_mbid(song_name, artist_name):\n",
    "    url = 'https://musicbrainz.org/ws/2/recording/'\n",
    "    params = {\n",
    "        'query': f'recording:\"{song_name}\" artist:\"{artist_name}\"',\n",
    "        'limit': 1,  \n",
    "        'fmt': 'json'  \n",
    "    }\n",
    "    response = requests.get(url, params=params)\n",
    "    if response.status_code == 200:\n",
    "        data = response.json()\n",
    "        # Check if any results were returned\n",
    "        if data['recordings']:\n",
    "            # Get the MBID of the first recording result\n",
    "            mbid = data['recordings'][0]['id']\n",
    "            return mbid\n",
    "        else:\n",
    "            print(\"Song not found.\")\n",
    "            return None\n",
    "    else:\n",
    "        print(f\"Error {response.status_code}: {response.text}\")\n",
    "        return None"
   ]
  },
  {
   "cell_type": "code",
   "execution_count": 108,
   "metadata": {},
   "outputs": [],
   "source": [
    "def get_audio_features(mbid):\n",
    "    url = f'https://acousticbrainz.org/api/v1/{mbid}/low-level'\n",
    "    \n",
    "    url = url.format(mbid=mbid)\n",
    "    response = requests.get(url)\n",
    "    if response.status_code == 200:\n",
    "        # Return the low-level audio features as a JSON dictionary\n",
    "        return response.json()\n",
    "    else:\n",
    "        print(f\"Error {response.status_code}: {response.text}\")\n",
    "        return None"
   ]
  },
  {
   "cell_type": "code",
   "execution_count": null,
   "metadata": {},
   "outputs": [],
   "source": [
    "def get_audio_features(track_id, access_token):\n",
    "    track_url = 'https://api.spotify.com/v1/audio-features/{track_id}'\n",
    "    headers = {\n",
    "        'Authorization': f'Bearer {access_token}'\n",
    "    }\n",
    "    url = track_url.format(track_id=track_id)\n",
    "    response = requests.get(url, headers=headers)\n",
    "    \n",
    "    if response.status_code == 200:\n",
    "        # Parse the response JSON\n",
    "        audio_features = response.json()\n",
    "        print(\"response is: \", response)\n",
    "\n",
    "        audio_info = {\n",
    "        'danceability': audio_features['danceability'],\n",
    "        'energy': audio_features['energy'], \n",
    "        'loundness': audio_features['loudness'],\n",
    "        'accousticness': audio_features['acousticness'],\n",
    "        'instrumentalness': audio_features['instrumentalness'],\n",
    "        'liveness': audio_features['liveness'],\n",
    "        'tempo': audio_features['tempo'],\n",
    "        'valence': audio_features['valence'],\n",
    "        'key': audio_features['key'],\n",
    "        'mode': audio_features['mode'],\n",
    "        'speechiness': audio_features['speechiness'],\n",
    "        'time_signature': audio_features['time_signature']\n",
    "        }\n",
    "        # +genre from acousticbrainz\n",
    "        \n",
    "        return audio_info\n",
    "    else:\n",
    "        print(f\"Error: {response.status_code}, {response.text}\")  \n",
    "        return 0  "
   ]
  },
  {
   "cell_type": "code",
   "execution_count": null,
   "metadata": {},
   "outputs": [],
   "source": [
    "# Step 3: Process and display the results\n",
    "def display_tracks(data):\n",
    "    if data and 'tracks' in data:\n",
    "        tracks = data['tracks']['items']\n",
    "        for track in tracks:\n",
    "            name = track['name']\n",
    "            artist = track['artists'][0]['name']\n",
    "            album = track['album']['name']\n",
    "            print(f\"Track: {name}, Artist: {artist}, Album: {album}\")\n",
    "    else:\n",
    "        print(\"No tracks found.\")"
   ]
  },
  {
   "cell_type": "markdown",
   "metadata": {},
   "source": [
    "# Genius API"
   ]
  },
  {
   "cell_type": "code",
   "execution_count": null,
   "metadata": {},
   "outputs": [],
   "source": [
    "# Access token\n",
    "\n",
    "access_token= \"\"\n",
    "base_url = \"https://api.genius.com\""
   ]
  },
  {
   "cell_type": "code",
   "execution_count": 64,
   "metadata": {},
   "outputs": [],
   "source": [
    "# Getting lyrics from genius API using song name and artist name\n",
    "def search_track_genius(track_name, artist_name):\n",
    "    search_url = base_url + \"/search\"\n",
    "    query = f\"{track_name} {artist_name}\" \n",
    "    params = {'q': query}\n",
    "    headers = {'Authorization': 'Bearer ' + access_token}\n",
    "    \n",
    "    response = requests.get(search_url, params=params, headers=headers)\n",
    "    \n",
    "    if response.status_code == 200:\n",
    "        return response.json()['response']['hits'][0]['result']['id']\n",
    "    else:\n",
    "        return None\n",
    "\n",
    "def get_lyrics_url(track_id):\n",
    "    song_url = f\"{base_url}/songs/{track_id}\"\n",
    "    headers = {'Authorization': 'Bearer ' + access_token}\n",
    "    \n",
    "    response = requests.get(song_url, headers=headers)\n",
    "    \n",
    "    if response.status_code == 200:\n",
    "        song_info = response.json()['response']['song']\n",
    "        lyrics_path = song_info['path']\n",
    "        return \"https://genius.com\" + lyrics_path\n",
    "    else:\n",
    "        print(\"Error fetching song details:\", response.status_code)\n",
    "        return None\n",
    "\n",
    "import time\n",
    "\n",
    "def get_lyrics(lyrics_url):\n",
    "    headers = {\n",
    "        'User-Agent': 'Mozilla/5.0 (Windows NT 10.0; Win64; x64) AppleWebKit/537.36 (KHTML, like Gecko) Chrome/58.0.3029.110 Safari/537.36'\n",
    "    }\n",
    "    response = requests.get(lyrics_url)\n",
    "    \n",
    "    if response.status_code == 200:\n",
    "        soup = BeautifulSoup(response.text, 'html.parser')        \n",
    "\n",
    "        lyrics_div = soup.find_all('div', {'data-lyrics-container': 'true'})\n",
    "        \n",
    "        if lyrics_div:\n",
    "            lyrics=\"\"\n",
    "            for ly in lyrics_div:\n",
    "                lyr=ly.get_text(separator=\" \")\n",
    "                # print(\"\\n\"+lyr)\n",
    "                lyr=lyr.strip()\n",
    "                lyrics=lyrics+\" \"+lyr\n",
    "            return lyrics\n",
    "\n",
    "        else:\n",
    "            print(\"Lyrics not found on the page.\")\n",
    "            return None\n",
    "    else:\n",
    "        print(\"Error fetching page content:\", response.status_code)\n",
    "        return None    \n",
    "    \n",
    "def clean_lyrics(lyrics):\n",
    "    result = re.sub(r'\\[.*?\\]', '', lyrics)\n",
    "    return result.strip()\n",
    "    \n"
   ]
  },
  {
   "cell_type": "code",
   "execution_count": 69,
   "metadata": {},
   "outputs": [
    {
     "name": "stdout",
     "output_type": "stream",
     "text": [
      "알고 있었어 무슨 말인지 무슨 마음인지 다 알아 하루 더 딱 하루만 더 미루고 싶었어  그래야겠지 결국 언젠간 제일 어려운 숙제를 해야지 마지막 인사가 이렇게 늦어서 미안  많이 보고 싶지만 널 다시는 만나지 않았음 좋겠어 아파 울지만 다신 너로 인해 웃지 않았음 좋겠어 한 움큼씩 나눴던 진심도 너무 쉬웠던 대답도 못 잊게 사랑한 여러 번의 계절도 안녕 모두 안녕  전부 알 것 같아도 더 이상의 이해는 없었음 좋겠어 묻고 싶지만 끝내 그 대답을 듣지 못했음 좋겠어 변함없이 정직한 두 눈도 약속한 겨울바다도 못 잊게 행복했던 어린 날의 나도 안녕 모두 안녕  안녕 모두\n"
     ]
    }
   ],
   "source": [
    "# trial of genius:\n",
    "\n",
    "song_id=search_track_genius(\"Full Stop\", \"IU\")\n",
    "url=get_lyrics_url(song_id)\n",
    "lyrics=get_lyrics(url)\n",
    "lyrics_cleaned=clean_lyrics(lyrics)\n",
    "print(lyrics_cleaned)"
   ]
  },
  {
   "cell_type": "code",
   "execution_count": null,
   "metadata": {},
   "outputs": [],
   "source": [
    "def main():\n",
    "    # Get access token\n",
    "    access_token = get_access_token(CLIENT_ID, CLIENT_SECRET)\n",
    "    if not access_token:\n",
    "        return\n",
    "\n",
    "    # Search for tracks from the year 2017\n",
    "    year = 2017\n",
    "    data = search_tracks(year, access_token)\n",
    "    if data:\n",
    "        display_tracks(data)"
   ]
  },
  {
   "cell_type": "code",
   "execution_count": null,
   "metadata": {},
   "outputs": [],
   "source": [
    "main()"
   ]
  },
  {
   "cell_type": "markdown",
   "metadata": {},
   "source": [
    "# Testing"
   ]
  },
  {
   "cell_type": "code",
   "execution_count": null,
   "metadata": {},
   "outputs": [],
   "source": [
    "# trial\n",
    "access_token=get_access_token(CLIENT_ID, CLIENT_SECRET)"
   ]
  },
  {
   "cell_type": "code",
   "execution_count": 25,
   "metadata": {},
   "outputs": [
    {
     "name": "stdout",
     "output_type": "stream",
     "text": [
      "the track id is:  7o1Pm9jpH0wFpN5g793Lnq\n"
     ]
    }
   ],
   "source": [
    "track_id=get_track_id(\"Can't Remember to Forget You\", \"Shakira\", access_token)\n",
    "print(\"the track id is: \", track_id)"
   ]
  },
  {
   "cell_type": "code",
   "execution_count": 43,
   "metadata": {},
   "outputs": [
    {
     "name": "stdout",
     "output_type": "stream",
     "text": [
      "{'track_name': \"Can't Remember to Forget You (feat. Rihanna)\", 'main_artist': 'Shakira', 'all_artists': ['Shakira', 'Rihanna'], 'popularity': 75, 'duration_ms': 206866, 'explicit': False, 'release_date': '2014-03-13'}\n"
     ]
    }
   ],
   "source": [
    "track_features=get_track_features(track_id, access_token)\n",
    "print(track_features)"
   ]
  },
  {
   "cell_type": "code",
   "execution_count": 41,
   "metadata": {},
   "outputs": [
    {
     "name": "stdout",
     "output_type": "stream",
     "text": [
      "7o1Pm9jpH0wFpN5g793Lnq\n",
      "Error: 403, {\n",
      "  \"error\" : {\n",
      "    \"status\" : 403\n",
      "  }\n",
      "}\n",
      "0\n"
     ]
    }
   ],
   "source": [
    "print(track_id)\n",
    "audio_features= get_audio_features(track_id, access_token)\n",
    "print(audio_features)"
   ]
  },
  {
   "cell_type": "code",
   "execution_count": 58,
   "metadata": {},
   "outputs": [
    {
     "name": "stdout",
     "output_type": "stream",
     "text": [
      "6eUKZXaKkcviH0Ku9w2n3V\n",
      "{'artist_name': 'Ed Sheeran', 'genres': ['soft pop'], 'popularity': 86, 'followers': 119016545}\n"
     ]
    }
   ],
   "source": [
    "artist_id=get_artist_id('Ed Sheeran', access_token)\n",
    "print(artist_id)\n",
    "print(get_artist_features(artist_id, access_token))\n"
   ]
  },
  {
   "cell_type": "code",
   "execution_count": null,
   "metadata": {},
   "outputs": [],
   "source": [
    "# musicbrainz and acousticbrainz testing\n",
    "mbid=get_song_mbid('Bohemian Rhapsody', 'Queen')\n",
    "print(mbid)\n",
    "# print(get_audio_features(mbid))"
   ]
  },
  {
   "cell_type": "markdown",
   "metadata": {},
   "source": [
    "Features we want to extract:\n",
    "high level (track details): name of track, artists name, popularity (score from 0 to 100), duration_ms, explicit, release_date(from the album info inside the track info, might not be available if track was not released in any album though most of the time even if the track was released as a single it will be part of an album that contains only it) \n",
    "\n",
    "NOTE: genre of track is not available. only the genres of the artist who sang the track\n",
    "\n",
    "Possible Solution for release_date and genre: MusicBrainz\n",
    "\n",
    "low level (audio details): \n",
    "danceability, energy, loudness, acousticness, instrumentalness, tempo, valence, speechiness"
   ]
  },
  {
   "cell_type": "code",
   "execution_count": null,
   "metadata": {},
   "outputs": [],
   "source": [
    "# extracting the track name and artist name from the list of the Billboard Hit songs , getting their track IDs, and retrieving all the features of those tracks that we are interested in."
   ]
  }
 ],
 "metadata": {
  "kernelspec": {
   "display_name": "Python 3",
   "language": "python",
   "name": "python3"
  },
  "language_info": {
   "codemirror_mode": {
    "name": "ipython",
    "version": 3
   },
   "file_extension": ".py",
   "mimetype": "text/x-python",
   "name": "python",
   "nbconvert_exporter": "python",
   "pygments_lexer": "ipython3",
   "version": "3.12.6"
  }
 },
 "nbformat": 4,
 "nbformat_minor": 2
}
